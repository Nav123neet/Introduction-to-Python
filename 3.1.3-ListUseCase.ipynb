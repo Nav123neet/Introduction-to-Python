{
 "cells": [
  {
   "cell_type": "markdown",
   "id": "ecc8164c-4570-4059-8c23-880b4611fad4",
   "metadata": {},
   "source": [
    "#### Real-World Examples Using Lists in Python\n",
    "Lists are one of the most commonly used data structures in Python, thanks to their versatility and ease of use. Here are several practical examples that illustrate their use in real-world scenarios"
   ]
  },
  {
   "cell_type": "markdown",
   "id": "8bb89413-8af4-4dbd-9ccd-089b02ad9528",
   "metadata": {},
   "source": [
    "##### Example 1. Manage A To Do List\n",
    "- Create a To Do List To Keep Track OF Tasks"
   ]
  },
  {
   "cell_type": "code",
   "execution_count": 12,
   "id": "85fd17f5-73ec-4823-a8f7-745f7146f77f",
   "metadata": {},
   "outputs": [
    {
     "name": "stdout",
     "output_type": "stream",
     "text": [
      "['Buy Groceries', 'Clean the House', 'Pay Bills', 'Schedule the metting', 'Learn new skill']\n",
      "['Buy Groceries', 'Pay Bills', 'Schedule the metting', 'Learn new skill']\n",
      "pay the bills\n",
      "Remaning list:\n",
      "Buy Groceries\n",
      "Pay Bills\n",
      "Schedule the metting\n",
      "Learn new skill\n"
     ]
    }
   ],
   "source": [
    "to_do_list=[\"Buy Groceries\",\"Clean the House\",\"Pay Bills\"]\n",
    "\n",
    "## Adding the task \n",
    "to_do_list.append(\"Schedule the metting\")\n",
    "to_do_list.append(\"Learn new skill\")\n",
    "print(to_do_list)\n",
    "\n",
    "## Remove a complete task \n",
    "to_do_list.remove(\"Clean the House\")\n",
    "print(to_do_list)\n",
    "\n",
    "## checking if the task is in the list \n",
    "if \"Pay Bills\" in to_do_list:\n",
    "    print(\"pay the bills\")\n",
    "\n",
    "## print the remaning list\n",
    "print(\"Remaning list:\")\n",
    "for task in to_do_list:\n",
    "    print(f\"{task}\")"
   ]
  },
  {
   "cell_type": "markdown",
   "id": "a9cad881-d342-4758-8e5f-a3eee32d8b2c",
   "metadata": {},
   "source": [
    "##### Example 2: Organizing Student Grades\n",
    "- Create a list to store and calculate average grades for students"
   ]
  },
  {
   "cell_type": "code",
   "execution_count": 25,
   "id": "c1b0e485-c099-4b44-9d39-4239f563d3b3",
   "metadata": {},
   "outputs": [
    {
     "name": "stdout",
     "output_type": "stream",
     "text": [
      "maximum grades is : 96\n",
      "minimum grades is: 79\n",
      "average grades are:87.40\n"
     ]
    }
   ],
   "source": [
    "## organizing the student grades \n",
    "grades=[85,90,79,96,87]\n",
    "\n",
    "##find max and min grades \n",
    "max_grades=max(grades)\n",
    "print(\"maximum grades is :\",max_grades)\n",
    "min_grades=min(grades)\n",
    "print(\"minimum grades is:\",min_grades)\n",
    "\n",
    "##finding average grades\n",
    "avg_grades=sum(grades)/len(grades)\n",
    "print(f\"average grades are:{avg_grades:.2f}\")\n"
   ]
  },
  {
   "cell_type": "markdown",
   "id": "c83c931e-e655-493a-b709-311ca97b58c3",
   "metadata": {},
   "source": [
    "##### Example 3: Managing An Inventory\n",
    "- Use a list to manage inventory items in a store"
   ]
  },
  {
   "cell_type": "code",
   "execution_count": 34,
   "id": "f6b1cba8-b1f2-435f-858c-46041db9ea9a",
   "metadata": {},
   "outputs": [
    {
     "name": "stdout",
     "output_type": "stream",
     "text": [
      "['Apple', 'Banana', 'Orange', 'Grapes', 'Starwberry']\n",
      "['Apple', 'Orange', 'Grapes', 'Starwberry']\n",
      "Banana is not available\n"
     ]
    }
   ],
   "source": [
    "## Managing a new inventory\n",
    "inventory=[\"Apple\",\"Banana\",\"Orange\",\"Grapes\"]\n",
    "\n",
    "##Add new element \n",
    "inventory.append(\"Starwberry\")\n",
    "print(inventory)\n",
    "\n",
    "## removing an elemnt that is out of stock \n",
    "inventory.remove(\"Banana\")\n",
    "print(inventory)\n",
    "\n",
    "#check an item in stock or not \n",
    "item=\"Banana\"\n",
    "if item in inventory:\n",
    "    print(f\"{item} is available in stock\")\n",
    "else:\n",
    "    print(f\"{item} is not available\")\n",
    "\n"
   ]
  },
  {
   "cell_type": "markdown",
   "id": "e998b750-babd-4623-8023-0da13c3a9cc3",
   "metadata": {},
   "source": [
    "##### Example 4:Collecting User Feedback\n",
    "- Use a list to collect and analyze user feedback."
   ]
  },
  {
   "cell_type": "code",
   "execution_count": 38,
   "id": "3d9aba6b-ca76-4110-a945-27689d9bf1ff",
   "metadata": {},
   "outputs": [
    {
     "name": "stdout",
     "output_type": "stream",
     "text": [
      "Total positive feedback are :2\n",
      "['Great experience', 'Could be better', 'Excellent service', 'Not satisfied with service']\n"
     ]
    }
   ],
   "source": [
    "## Collecting user feedback \n",
    "feedback=[\"Great experience\",\"Very satisfied\",\"Could be better\",\"Excellent service\"]\n",
    "\n",
    "#Adding a new feedback \n",
    "feedback.append(\"Not satisfied with service\")\n",
    "\n",
    "#removing feedback \n",
    "feedback.remove(\"Very satisfied\")\n",
    "\n",
    "# Counting specific feedback \n",
    "positive_feedback=sum(1 for comment in feedback if \"great\" in comment.lower() or \"excellent\" in comment.lower())\n",
    "print(f\"Total positive feedback are :{positive_feedback}\")\n",
    "\n",
    "print(feedback)\n"
   ]
  }
 ],
 "metadata": {
  "kernelspec": {
   "display_name": "Python 3 (ipykernel)",
   "language": "python",
   "name": "python3"
  },
  "language_info": {
   "codemirror_mode": {
    "name": "ipython",
    "version": 3
   },
   "file_extension": ".py",
   "mimetype": "text/x-python",
   "name": "python",
   "nbconvert_exporter": "python",
   "pygments_lexer": "ipython3",
   "version": "3.12.0"
  }
 },
 "nbformat": 4,
 "nbformat_minor": 5
}
