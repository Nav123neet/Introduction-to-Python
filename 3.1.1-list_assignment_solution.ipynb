{
 "cells": [
  {
   "cell_type": "markdown",
   "id": "7e490356",
   "metadata": {},
   "source": [
    "# Module 3: Data Structures Assignments\n",
    "## Lesson 3.1: Lists\n",
    "### Assignment 1: Creating and Accessing Lists\n",
    "\n",
    "Create a list of the first 20 positive integers. Print the list."
   ]
  },
  {
   "cell_type": "code",
   "execution_count": null,
   "id": "134e5015",
   "metadata": {},
   "outputs": [],
   "source": [
    "lst = list(range(1, 21))\n",
    "print(lst)"
   ]
  },
  {
   "cell_type": "markdown",
   "id": "271a4d5a",
   "metadata": {},
   "source": [
    "### Assignment 2: Accessing List Elements\n",
    "\n",
    "Print the first, middle, and last elements of the list created in Assignment 1."
   ]
  },
  {
   "cell_type": "code",
   "execution_count": null,
   "id": "bd6b8e57",
   "metadata": {},
   "outputs": [],
   "source": [
    "print(f\"First element: {lst[0]}\")\n",
    "print(f\"Middle element: {lst[len(lst) // 2]}\")\n",
    "print(f\"Last element: {lst[-1]}\")"
   ]
  },
  {
   "cell_type": "markdown",
   "id": "ebddf77b",
   "metadata": {},
   "source": [
    "### Assignment 3: List Slicing\n",
    "\n",
    "Print the first five elements, the last five elements, and the elements from index 5 to 15 of the list created in Assignment 1."
   ]
  },
  {
   "cell_type": "code",
   "execution_count": null,
   "id": "f655397e",
   "metadata": {},
   "outputs": [],
   "source": [
    "print(f\"First five elements: {lst[:5]}\")\n",
    "print(f\"Last five elements: {lst[-5:]}\")\n",
    "print(f\"Elements from index 5 to 15: {lst[5:16]}\")"
   ]
  },
  {
   "cell_type": "markdown",
   "id": "742f92f9",
   "metadata": {},
   "source": [
    "### Assignment 4: List Comprehensions\n",
    "\n",
    "Create a new list containing the squares of the first 10 positive integers using a list comprehension. Print the new list."
   ]
  },
  {
   "cell_type": "code",
   "execution_count": null,
   "id": "ace5ed68",
   "metadata": {},
   "outputs": [],
   "source": [
    "squares = [x**2 for x in range(1, 11)]\n",
    "print(squares)"
   ]
  },
  {
   "cell_type": "markdown",
   "id": "754987bd",
   "metadata": {},
   "source": [
    "### Assignment 5: Filtering Lists\n",
    "\n",
    "Create a new list containing only the even numbers from the list created in Assignment 1 using a list comprehension. Print the new list."
   ]
  },
  {
   "cell_type": "code",
   "execution_count": null,
   "id": "267ee190",
   "metadata": {},
   "outputs": [],
   "source": [
    "evens = [x for x in lst if x % 2 == 0]\n",
    "print(evens)"
   ]
  },
  {
   "cell_type": "markdown",
   "id": "4203519f",
   "metadata": {},
   "source": [
    "### Assignment 6: List Methods\n",
    "\n",
    "Create a list of random numbers and sort it in ascending and descending order. Remove the duplicates from the list and print the modified list."
   ]
  },
  {
   "cell_type": "code",
   "execution_count": null,
   "id": "3d1ab8f9",
   "metadata": {},
   "outputs": [],
   "source": [
    "import random\n",
    "\n",
    "random_numbers = [random.randint(1, 20) for _ in range(15)]\n",
    "print(f\"Original list: {random_numbers}\")\n",
    "\n",
    "sorted_numbers = sorted(random_numbers)\n",
    "print(f\"Sorted in ascending order: {sorted_numbers}\")\n",
    "\n",
    "sorted_numbers_desc = sorted(random_numbers, reverse=True)\n",
    "print(f\"Sorted in descending order: {sorted_numbers_desc}\")\n",
    "\n",
    "unique_numbers = list(set(random_numbers))\n",
    "print(f\"List with duplicates removed: {unique_numbers}\")"
   ]
  },
  {
   "cell_type": "markdown",
   "id": "5dbd7383",
   "metadata": {},
   "source": [
    "### Assignment 7: Nested Lists\n",
    "\n",
    "Create a nested list representing a 3x3 matrix and print the matrix. Access and print the element at the second row and third column."
   ]
  },
  {
   "cell_type": "code",
   "execution_count": null,
   "id": "d84d2a3a",
   "metadata": {},
   "outputs": [],
   "source": [
    "matrix = [\n",
    "    [1, 2, 3],\n",
    "    [4, 5, 6],\n",
    "    [7, 8, 9]\n",
    "]\n",
    "print(\"Matrix:\")\n",
    "for row in matrix:\n",
    "    print(row)\n",
    "print(f\"Element at second row and third column: {matrix[1][2]}\")"
   ]
  },
  {
   "cell_type": "markdown",
   "id": "fa767407",
   "metadata": {},
   "source": [
    "### Assignment 8: List of Dictionaries\n",
    "\n",
    "Create a list of dictionaries where each dictionary represents a student with keys 'name' and 'score'. Sort the list of dictionaries by the 'score' in descending order and print the sorted list."
   ]
  },
  {
   "cell_type": "code",
   "execution_count": null,
   "id": "3d0af011",
   "metadata": {},
   "outputs": [],
   "source": [
    "students = [\n",
    "    {'name': 'Alice', 'score': 88},\n",
    "    {'name': 'Bob', 'score': 72},\n",
    "    {'name': 'Charlie', 'score': 95},\n",
    "    {'name': 'David', 'score': 65},\n",
    "    {'name': 'Eve', 'score': 78}\n",
    "]\n",
    "sorted_students = sorted(students, key=lambda x: x['score'], reverse=True)\n",
    "print(\"Sorted students by score in descending order:\")\n",
    "for student in sorted_students:\n",
    "    print(student)"
   ]
  },
  {
   "cell_type": "markdown",
   "id": "ffa2f65c",
   "metadata": {},
   "source": [
    "### Assignment 9: Matrix Transposition\n",
    "\n",
    "Write a function that takes a 3x3 matrix (nested list) as input and returns its transpose. Print the original and transposed matrices."
   ]
  },
  {
   "cell_type": "code",
   "execution_count": null,
   "id": "3c1d075a",
   "metadata": {},
   "outputs": [],
   "source": [
    "def transpose_matrix(matrix):\n",
    "    transposed = [[matrix[j][i] for j in range(len(matrix))] for i in range(len(matrix[0]))]\n",
    "    return transposed\n",
    "\n",
    "matrix = [\n",
    "    [1, 2, 3],\n",
    "    [4, 5, 6],\n",
    "    [7, 8, 9]\n",
    "]\n",
    "transposed = transpose_matrix(matrix)\n",
    "print(\"Original matrix:\")\n",
    "for row in matrix:\n",
    "    print(row)\n",
    "print(\"Transposed matrix:\")\n",
    "for row in transposed:\n",
    "    print(row)"
   ]
  },
  {
   "cell_type": "markdown",
   "id": "192878bb",
   "metadata": {},
   "source": [
    "### Assignment 10: Flattening a Nested List\n",
    "\n",
    "Write a function that takes a nested list and flattens it into a single list. Print the original and flattened lists."
   ]
  },
  {
   "cell_type": "code",
   "execution_count": null,
   "id": "5d351171",
   "metadata": {},
   "outputs": [],
   "source": [
    "def flatten_list(nested_list):\n",
    "    flat_list = [item for sublist in nested_list for item in sublist]\n",
    "    return flat_list\n",
    "\n",
    "nested_list = [\n",
    "    [1, 2, 3],\n",
    "    [4, 5, 6],\n",
    "    [7, 8, 9]\n",
    "]\n",
    "flattened = flatten_list(nested_list)\n",
    "print(\"Original nested list:\")\n",
    "print(nested_list)\n",
    "print(\"Flattened list:\")\n",
    "print(flattened)"
   ]
  },
  {
   "cell_type": "markdown",
   "id": "aa44639e",
   "metadata": {},
   "source": [
    "### Assignment 11: List Manipulation\n",
    "\n",
    "Create a list of the first 10 positive integers. Remove the elements at indices 2, 4, and 6, and insert the element '99' at index 5. Print the modified list."
   ]
  },
  {
   "cell_type": "code",
   "execution_count": null,
   "id": "0d8df799",
   "metadata": {},
   "outputs": [],
   "source": [
    "lst = list(range(1, 11))\n",
    "print(f\"Original list: {lst}\")\n",
    "del lst[6]\n",
    "del lst[4]\n",
    "del lst[2]\n",
    "lst.insert(5, 99)\n",
    "print(f\"Modified list: {lst}\")"
   ]
  },
  {
   "cell_type": "markdown",
   "id": "c3c89734",
   "metadata": {},
   "source": [
    "### Assignment 12: List Zipping\n",
    "\n",
    "Create two lists of the same length. Use the `zip` function to combine these lists into a list of tuples and print the result."
   ]
  },
  {
   "cell_type": "code",
   "execution_count": 1,
   "id": "53b1f536",
   "metadata": {},
   "outputs": [
    {
     "name": "stdout",
     "output_type": "stream",
     "text": [
      "[(1, 'a'), (2, 'b'), (3, 'c'), (4, 'd'), (5, 'e')]\n"
     ]
    }
   ],
   "source": [
    "list1 = [1, 2, 3, 4, 5]\n",
    "list2 = ['a', 'b', 'c', 'd', 'e']\n",
    "zipped = list(zip(list1, list2))\n",
    "print(zipped)"
   ]
  },
  {
   "cell_type": "markdown",
   "id": "7115c3c6",
   "metadata": {},
   "source": [
    "### Assignment 13: List Reversal\n",
    "\n",
    "Write a function that takes a list and returns a new list with the elements in reverse order. Print the original and reversed lists."
   ]
  },
  {
   "cell_type": "code",
   "execution_count": null,
   "id": "d33fb32d",
   "metadata": {},
   "outputs": [],
   "source": [
    "def reverse_list(lst):\n",
    "    return lst[::-1]\n",
    "\n",
    "original_list = [1, 2, 3, 4, 5]\n",
    "reversed_list = reverse_list(original_list)\n",
    "print(f\"Original list: {original_list}\")\n",
    "print(f\"Reversed list: {reversed_list}\")"
   ]
  },
  {
   "cell_type": "markdown",
   "id": "0f4b88ea",
   "metadata": {},
   "source": [
    "### Assignment 14: List Rotation\n",
    "\n",
    "Write a function that rotates a list by n positions. Print the original and rotated lists."
   ]
  },
  {
   "cell_type": "code",
   "execution_count": null,
   "id": "597d343e",
   "metadata": {},
   "outputs": [],
   "source": [
    "def rotate_list(lst, n):\n",
    "    return lst[n:] + lst[:n]\n",
    "\n",
    "original_list = [1, 2, 3, 4, 5]\n",
    "rotated_list = rotate_list(original_list, 2)\n",
    "print(f\"Original list: {original_list}\")\n",
    "print(f\"Rotated list: {rotated_list}\")"
   ]
  },
  {
   "cell_type": "markdown",
   "id": "5d733461",
   "metadata": {},
   "source": [
    "### Assignment 15: List Intersection\n",
    "\n",
    "Write a function that takes two lists and returns a new list containing only the elements that are present in both lists. Print the intersected list."
   ]
  },
  {
   "cell_type": "code",
   "execution_count": null,
   "id": "f3bb4558",
   "metadata": {},
   "outputs": [],
   "source": [
    "def list_intersection(lst1, lst2):\n",
    "    return [x for x in lst1 if x in lst2]\n",
    "\n",
    "list1 = [1, 2, 3, 4, 5]\n",
    "list2 = [3, 4, 5, 6, 7]\n",
    "intersection = list_intersection(list1, list2)\n",
    "print(f\"List 1: {list1}\")\n",
    "print(f\"List 2: {list2}\")\n",
    "print(f\"Intersection: {intersection}\")"
   ]
  }
 ],
 "metadata": {
  "kernelspec": {
   "display_name": "Python 3 (ipykernel)",
   "language": "python",
   "name": "python3"
  },
  "language_info": {
   "codemirror_mode": {
    "name": "ipython",
    "version": 3
   },
   "file_extension": ".py",
   "mimetype": "text/x-python",
   "name": "python",
   "nbconvert_exporter": "python",
   "pygments_lexer": "ipython3",
   "version": "3.12.0"
  }
 },
 "nbformat": 4,
 "nbformat_minor": 5
}
